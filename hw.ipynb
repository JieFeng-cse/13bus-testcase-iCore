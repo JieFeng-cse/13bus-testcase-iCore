{
 "cells": [
  {
   "cell_type": "code",
   "execution_count": 2,
   "metadata": {},
   "outputs": [],
   "source": [
    "import numpy as np\n",
    "from numpy import linalg as LA\n",
    "import matplotlib.pyplot as plt"
   ]
  },
  {
   "cell_type": "code",
   "execution_count": 3,
   "metadata": {},
   "outputs": [],
   "source": [
    "#config\n",
    "m = 5\n",
    "n = 5\n",
    "beta = 0.9\n",
    "t = 1.0\n",
    "alpha = 0.45\n",
    "err = 0.001"
   ]
  },
  {
   "cell_type": "code",
   "execution_count": 43,
   "metadata": {},
   "outputs": [],
   "source": [
    "def init(m,n):\n",
    "    A = np.random.rand(m,n)*0.1\n",
    "    x = np.zeros((n,1))\n",
    "    return A,x\n",
    "    "
   ]
  },
  {
   "cell_type": "code",
   "execution_count": 5,
   "metadata": {},
   "outputs": [],
   "source": [
    "def optimization_goal(A,x):\n",
    "    assert (np.abs(x) < np.ones((n,1))).all()\n",
    "    assert (np.dot(A,x)<np.ones(m)).all()\n",
    "    res = -np.sum([np.log(1-np.dot(A[i,:],x)) for i in range(A.shape[0])]) - np.sum([np.log(1-x[i]**2) for i in range(A.shape[1])])\n",
    "    return res"
   ]
  },
  {
   "cell_type": "code",
   "execution_count": 6,
   "metadata": {},
   "outputs": [],
   "source": [
    "def get_grad(A,x):\n",
    "    grad = np.zeros(x.shape)\n",
    "    for i in range(A.shape[0]):\n",
    "        grad += np.resize( A[i,:],x.shape)/(1-np.dot(np.resize(A[i,:],x.shape).T,x))\n",
    "    grad += 2*x/(1-x*x)            \n",
    "    return grad"
   ]
  },
  {
   "cell_type": "code",
   "execution_count": 7,
   "metadata": {},
   "outputs": [],
   "source": [
    "def bls(A, x, t, alpha, beta):\n",
    "    f_x_0 = optimization_goal(A,x)\n",
    "    f_x = f_x_0\n",
    "    jacobian_x = get_grad(A,x)\n",
    "    jacobian_x_norm = LA.norm(jacobian_x)\n",
    "    while f_x > f_x_0 - alpha * t * jacobian_x_norm**2:\n",
    "        t = beta * t\n",
    "        f_x = optimization_goal(A,x-t*jacobian_x)\n",
    "    return t"
   ]
  },
  {
   "cell_type": "code",
   "execution_count": 11,
   "metadata": {},
   "outputs": [],
   "source": [
    "def solver(A,x,t,alpha,beta,err):\n",
    "    step_traj = []\n",
    "    step_traj.append(t)\n",
    "    obj_traj =[]\n",
    "    obj_res = optimization_goal(A,x)\n",
    "    obj_traj.append(obj_res)\n",
    "    jacobian_x = get_grad(A,x)\n",
    "    while LA.norm(jacobian_x) > err:\n",
    "        t_bls = bls(A,x,t,alpha,beta)\n",
    "        x = x - t_bls*jacobian_x\n",
    "        obj_res = optimization_goal(A,x)\n",
    "        jacobian_x = get_grad(A,x)\n",
    "        step_traj.append(t_bls)\n",
    "        obj_traj.append(obj_res)\n",
    "    return step_traj, obj_traj    "
   ]
  },
  {
   "cell_type": "code",
   "execution_count": 44,
   "metadata": {},
   "outputs": [],
   "source": [
    "m=12\n",
    "n=10\n",
    "A,x = init(m,n)"
   ]
  },
  {
   "cell_type": "code",
   "execution_count": 53,
   "metadata": {},
   "outputs": [],
   "source": [
    "alpha = 0.45\n",
    "beta=0.1\n",
    "step_traj,obj_traj = solver(A,x,1.0,alpha,beta,err)"
   ]
  },
  {
   "cell_type": "code",
   "execution_count": 54,
   "metadata": {},
   "outputs": [
    {
     "data": {
      "text/plain": [
       "Text(0.5, 0.98, 'm=12,n=10,beta=0.1,alpha=0.45')"
      ]
     },
     "execution_count": 54,
     "metadata": {},
     "output_type": "execute_result"
    },
    {
     "data": {
      "image/png": "[encoded data removed]",
      "text/plain": [
       "<Figure size 432x288 with 2 Axes>"
      ]
     },
     "metadata": {
      "needs_background": "light"
     },
     "output_type": "display_data"
    }
   ],
   "source": [
    "fig, axs = plt.subplots(1, 2)\n",
    "axs[0].plot(range(len(step_traj)),step_traj)\n",
    "axs[0].set_xlabel('iteration number')\n",
    "axs[0].set_ylabel('step size')\n",
    "\n",
    "axs[1].plot(range(len(step_traj)),obj_traj)\n",
    "axs[1].set_xlabel('iteration number')\n",
    "axs[1].set_ylabel('Objective function')\n",
    "fig.suptitle(f'm={m},n={n},beta={beta},alpha={alpha}')"
   ]
  },
  {
   "cell_type": "code",
   "execution_count": null,
   "metadata": {},
   "outputs": [],
   "source": []
  }
 ],
 "metadata": {
  "interpreter": {
   "hash": "c29844a0a6289b07ec9bd49bfbf82b25be0a16fcb62431206df354e3cda954d5"
  },
  "kernelspec": {
   "display_name": "Python 3.8.8 ('base')",
   "language": "python",
   "name": "python3"
  },
  "language_info": {
   "codemirror_mode": {
    "name": "ipython",
    "version": 3
   },
   "file_extension": ".py",
   "mimetype": "text/x-python",
   "name": "python",
   "nbconvert_exporter": "python",
   "pygments_lexer": "ipython3",
   "version": "3.8.8"
  },
  "orig_nbformat": 4
 },
 "nbformat": 4,
 "nbformat_minor": 2
}
